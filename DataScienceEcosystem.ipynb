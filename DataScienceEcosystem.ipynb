{
  "metadata": {
    "kernelspec": {
      "name": "python",
      "display_name": "Python (Pyodide)",
      "language": "python"
    },
    "language_info": {
      "codemirror_mode": {
        "name": "python",
        "version": 3
      },
      "file_extension": ".py",
      "mimetype": "text/x-python",
      "name": "python",
      "nbconvert_exporter": "python",
      "pygments_lexer": "ipython3",
      "version": "3.8"
    }
  },
  "nbformat_minor": 4,
  "nbformat": 4,
  "cells": [
    {
      "cell_type": "markdown",
      "source": "# Data Science Tools and Ecosystem",
      "metadata": {}
    },
    {
      "cell_type": "markdown",
      "source": "<blockquote>In this notebook, Data Science Tools and Ecosystem are summarized.</blockquote>",
      "metadata": {}
    },
    {
      "cell_type": "markdown",
      "source": "## **Objectives**",
      "metadata": {}
    },
    {
      "cell_type": "markdown",
      "source": "- List of Popular Languages\n- List of Commonly Used Libraries\n- Evaluating Arithmetic Expressions in Python",
      "metadata": {}
    },
    {
      "cell_type": "markdown",
      "source": "<blockquote>Some of the popular languages that Data Scientists use are:</blockquote>",
      "metadata": {}
    },
    {
      "cell_type": "markdown",
      "source": "1. Python\n2. R Studio\n3. SQL\n4. SAS\n5. MATLAB",
      "metadata": {}
    },
    {
      "cell_type": "markdown",
      "source": "<blockquote>Some of the commonly used libraries used by Data Scientists include:</blockquote>",
      "metadata": {}
    },
    {
      "cell_type": "markdown",
      "source": "1. Pandas\n2. SciPy\n3. Matplotlib\n4. TensorFlow\n5. NumPy",
      "metadata": {}
    },
    {
      "cell_type": "markdown",
      "source": "|Data Science Tools|\n|------------------|\n|RStudio|\n|TensorFlow|\n|Apache Spark|",
      "metadata": {}
    },
    {
      "cell_type": "markdown",
      "source": "### Below are a few examples of evaluating arithmetic expressions in Python",
      "metadata": {}
    },
    {
      "cell_type": "markdown",
      "source": "<blockquote>This is a simple arithmetic expression to multiply then add integers</blockquote>",
      "metadata": {}
    },
    {
      "cell_type": "code",
      "source": "print (3*4+5)",
      "metadata": {
        "trusted": true
      },
      "outputs": [
        {
          "name": "stdout",
          "text": "17\n",
          "output_type": "stream"
        }
      ],
      "execution_count": 1
    },
    {
      "cell_type": "markdown",
      "source": "<blockquote>THis will convert 200 minutes to hours by dividing by 60</blockquote>",
      "metadata": {}
    },
    {
      "cell_type": "code",
      "source": "x = 200\ny = 60\nNumHours = x/y\nprint (NumHours)",
      "metadata": {
        "trusted": true
      },
      "outputs": [
        {
          "name": "stdout",
          "text": "3.3333333333333335\n",
          "output_type": "stream"
        }
      ],
      "execution_count": 2
    },
    {
      "cell_type": "markdown",
      "source": "## Author\n### Lance Elliott Patterson",
      "metadata": {}
    }
  ]
}